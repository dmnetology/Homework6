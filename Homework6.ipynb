{
 "cells": [
  {
   "cell_type": "markdown",
   "id": "782d3d70",
   "metadata": {},
   "source": [
    "**Задание**\n",
    "<br>Для каждого user_id в файле visit_log.csv определите третий столбец с категорией покупки. Если покупка была, сам файл visit_log.csv изменять не надо.\n",
    "\n",
    "<br>Запишите в файл funnel.csv визиты из файла visit_log.csv, в которых были покупки с указанием категории.\n",
    "\n",
    "<br>Учтите условие для данных:\n",
    "\n",
    "<li>содержимое visit_log.csv — не помещается в оперативную память компьютера, используйте только построчную обработку этого файла.\n",
    "<br>Примеры работы программы при выводе первых трёх строк файла funnel.csv:\n",
    "<li>user_id,source,category\n",
    "<li>1840e0b9d4,other,Продукты\n",
    "<li>4e4f90fcfb,context,Электроника"
   ]
  },
  {
   "cell_type": "code",
   "execution_count": 1,
   "id": "6b1a42fb",
   "metadata": {},
   "outputs": [
    {
     "name": "stdout",
     "output_type": "stream",
     "text": [
      "Количество визитов с покупкой:  13799\n"
     ]
    }
   ],
   "source": [
    "# используем контекстный менеджер для корректного открытия/закрытия файлов\n",
    "with open(\"d:\\\\visit_log.csv\", \"r\") as file1, open(\"d:\\\\purchase_log.txt\", \"r\", encoding = 'utf-8') as file2, \\\n",
    "open(\"d:\\\\funnel.csv\", \"w\", encoding = 'utf-8') as file3:\n",
    "    lines = file2.read().splitlines() # грузим лог покупок\n",
    "    purchase = {}  #\n",
    "    count = 0\n",
    "    for line in lines:\n",
    "        dic1 = eval(line)\n",
    "        key,value = dic1[\"user_id\"], dic1[\"category\"] # создаем словарь id:category из лога покупок\n",
    "        purchase.update({key:value})\n",
    "    file3.writelines('user_id,source,category\\n') # записываем заголовок в результирующий файл\n",
    "    while True:\n",
    "        content = file1.readline().split(',') # считываем построчно лог визитов и сохраняем в список\n",
    "        if content == ['']: # если считали пустую строку, то закончить чтение\n",
    "            break\n",
    "        content[1] = content[1].rstrip('\\n') # удаляем в конце строки символы переноса\n",
    "        if content[0] in purchase: # если id считанного визита есть в логе покупок, то\n",
    "            content.append(purchase[content[0]] + '\\n') # добавляем в список категорию по данному id\n",
    "            file3.writelines(','.join(content)) # записываем список в виде строки в результирующий файл\n",
    "            count += 1\n",
    "    print('Количество визитов с покупкой: ', count)"
   ]
  },
  {
   "cell_type": "code",
   "execution_count": null,
   "id": "91733dcf",
   "metadata": {},
   "outputs": [],
   "source": []
  }
 ],
 "metadata": {
  "kernelspec": {
   "display_name": "Python 3 (ipykernel)",
   "language": "python",
   "name": "python3"
  },
  "language_info": {
   "codemirror_mode": {
    "name": "ipython",
    "version": 3
   },
   "file_extension": ".py",
   "mimetype": "text/x-python",
   "name": "python",
   "nbconvert_exporter": "python",
   "pygments_lexer": "ipython3",
   "version": "3.9.12"
  },
  "toc": {
   "base_numbering": 1,
   "nav_menu": {},
   "number_sections": true,
   "sideBar": true,
   "skip_h1_title": false,
   "title_cell": "Table of Contents",
   "title_sidebar": "Contents",
   "toc_cell": false,
   "toc_position": {},
   "toc_section_display": true,
   "toc_window_display": false
  }
 },
 "nbformat": 4,
 "nbformat_minor": 5
}
